{
  "cells": [
    {
      "cell_type": "code",
      "source": [
        "from google.colab import files\n",
        "uploaded = files.upload()\n"
      ],
      "metadata": {
        "colab": {
          "base_uri": "https://localhost:8080/",
          "height": 73
        },
        "id": "L9LUYRrL8-kb",
        "outputId": "11f11cbc-2e9d-4287-84e5-1a0de9a3b796"
      },
      "execution_count": 2,
      "outputs": [
        {
          "output_type": "display_data",
          "data": {
            "text/plain": [
              "<IPython.core.display.HTML object>"
            ],
            "text/html": [
              "\n",
              "     <input type=\"file\" id=\"files-c9997558-915b-4744-bfae-adf82f340ebd\" name=\"files[]\" multiple disabled\n",
              "        style=\"border:none\" />\n",
              "     <output id=\"result-c9997558-915b-4744-bfae-adf82f340ebd\">\n",
              "      Upload widget is only available when the cell has been executed in the\n",
              "      current browser session. Please rerun this cell to enable.\n",
              "      </output>\n",
              "      <script>// Copyright 2017 Google LLC\n",
              "//\n",
              "// Licensed under the Apache License, Version 2.0 (the \"License\");\n",
              "// you may not use this file except in compliance with the License.\n",
              "// You may obtain a copy of the License at\n",
              "//\n",
              "//      http://www.apache.org/licenses/LICENSE-2.0\n",
              "//\n",
              "// Unless required by applicable law or agreed to in writing, software\n",
              "// distributed under the License is distributed on an \"AS IS\" BASIS,\n",
              "// WITHOUT WARRANTIES OR CONDITIONS OF ANY KIND, either express or implied.\n",
              "// See the License for the specific language governing permissions and\n",
              "// limitations under the License.\n",
              "\n",
              "/**\n",
              " * @fileoverview Helpers for google.colab Python module.\n",
              " */\n",
              "(function(scope) {\n",
              "function span(text, styleAttributes = {}) {\n",
              "  const element = document.createElement('span');\n",
              "  element.textContent = text;\n",
              "  for (const key of Object.keys(styleAttributes)) {\n",
              "    element.style[key] = styleAttributes[key];\n",
              "  }\n",
              "  return element;\n",
              "}\n",
              "\n",
              "// Max number of bytes which will be uploaded at a time.\n",
              "const MAX_PAYLOAD_SIZE = 100 * 1024;\n",
              "\n",
              "function _uploadFiles(inputId, outputId) {\n",
              "  const steps = uploadFilesStep(inputId, outputId);\n",
              "  const outputElement = document.getElementById(outputId);\n",
              "  // Cache steps on the outputElement to make it available for the next call\n",
              "  // to uploadFilesContinue from Python.\n",
              "  outputElement.steps = steps;\n",
              "\n",
              "  return _uploadFilesContinue(outputId);\n",
              "}\n",
              "\n",
              "// This is roughly an async generator (not supported in the browser yet),\n",
              "// where there are multiple asynchronous steps and the Python side is going\n",
              "// to poll for completion of each step.\n",
              "// This uses a Promise to block the python side on completion of each step,\n",
              "// then passes the result of the previous step as the input to the next step.\n",
              "function _uploadFilesContinue(outputId) {\n",
              "  const outputElement = document.getElementById(outputId);\n",
              "  const steps = outputElement.steps;\n",
              "\n",
              "  const next = steps.next(outputElement.lastPromiseValue);\n",
              "  return Promise.resolve(next.value.promise).then((value) => {\n",
              "    // Cache the last promise value to make it available to the next\n",
              "    // step of the generator.\n",
              "    outputElement.lastPromiseValue = value;\n",
              "    return next.value.response;\n",
              "  });\n",
              "}\n",
              "\n",
              "/**\n",
              " * Generator function which is called between each async step of the upload\n",
              " * process.\n",
              " * @param {string} inputId Element ID of the input file picker element.\n",
              " * @param {string} outputId Element ID of the output display.\n",
              " * @return {!Iterable<!Object>} Iterable of next steps.\n",
              " */\n",
              "function* uploadFilesStep(inputId, outputId) {\n",
              "  const inputElement = document.getElementById(inputId);\n",
              "  inputElement.disabled = false;\n",
              "\n",
              "  const outputElement = document.getElementById(outputId);\n",
              "  outputElement.innerHTML = '';\n",
              "\n",
              "  const pickedPromise = new Promise((resolve) => {\n",
              "    inputElement.addEventListener('change', (e) => {\n",
              "      resolve(e.target.files);\n",
              "    });\n",
              "  });\n",
              "\n",
              "  const cancel = document.createElement('button');\n",
              "  inputElement.parentElement.appendChild(cancel);\n",
              "  cancel.textContent = 'Cancel upload';\n",
              "  const cancelPromise = new Promise((resolve) => {\n",
              "    cancel.onclick = () => {\n",
              "      resolve(null);\n",
              "    };\n",
              "  });\n",
              "\n",
              "  // Wait for the user to pick the files.\n",
              "  const files = yield {\n",
              "    promise: Promise.race([pickedPromise, cancelPromise]),\n",
              "    response: {\n",
              "      action: 'starting',\n",
              "    }\n",
              "  };\n",
              "\n",
              "  cancel.remove();\n",
              "\n",
              "  // Disable the input element since further picks are not allowed.\n",
              "  inputElement.disabled = true;\n",
              "\n",
              "  if (!files) {\n",
              "    return {\n",
              "      response: {\n",
              "        action: 'complete',\n",
              "      }\n",
              "    };\n",
              "  }\n",
              "\n",
              "  for (const file of files) {\n",
              "    const li = document.createElement('li');\n",
              "    li.append(span(file.name, {fontWeight: 'bold'}));\n",
              "    li.append(span(\n",
              "        `(${file.type || 'n/a'}) - ${file.size} bytes, ` +\n",
              "        `last modified: ${\n",
              "            file.lastModifiedDate ? file.lastModifiedDate.toLocaleDateString() :\n",
              "                                    'n/a'} - `));\n",
              "    const percent = span('0% done');\n",
              "    li.appendChild(percent);\n",
              "\n",
              "    outputElement.appendChild(li);\n",
              "\n",
              "    const fileDataPromise = new Promise((resolve) => {\n",
              "      const reader = new FileReader();\n",
              "      reader.onload = (e) => {\n",
              "        resolve(e.target.result);\n",
              "      };\n",
              "      reader.readAsArrayBuffer(file);\n",
              "    });\n",
              "    // Wait for the data to be ready.\n",
              "    let fileData = yield {\n",
              "      promise: fileDataPromise,\n",
              "      response: {\n",
              "        action: 'continue',\n",
              "      }\n",
              "    };\n",
              "\n",
              "    // Use a chunked sending to avoid message size limits. See b/62115660.\n",
              "    let position = 0;\n",
              "    do {\n",
              "      const length = Math.min(fileData.byteLength - position, MAX_PAYLOAD_SIZE);\n",
              "      const chunk = new Uint8Array(fileData, position, length);\n",
              "      position += length;\n",
              "\n",
              "      const base64 = btoa(String.fromCharCode.apply(null, chunk));\n",
              "      yield {\n",
              "        response: {\n",
              "          action: 'append',\n",
              "          file: file.name,\n",
              "          data: base64,\n",
              "        },\n",
              "      };\n",
              "\n",
              "      let percentDone = fileData.byteLength === 0 ?\n",
              "          100 :\n",
              "          Math.round((position / fileData.byteLength) * 100);\n",
              "      percent.textContent = `${percentDone}% done`;\n",
              "\n",
              "    } while (position < fileData.byteLength);\n",
              "  }\n",
              "\n",
              "  // All done.\n",
              "  yield {\n",
              "    response: {\n",
              "      action: 'complete',\n",
              "    }\n",
              "  };\n",
              "}\n",
              "\n",
              "scope.google = scope.google || {};\n",
              "scope.google.colab = scope.google.colab || {};\n",
              "scope.google.colab._files = {\n",
              "  _uploadFiles,\n",
              "  _uploadFilesContinue,\n",
              "};\n",
              "})(self);\n",
              "</script> "
            ]
          },
          "metadata": {}
        },
        {
          "output_type": "stream",
          "name": "stdout",
          "text": [
            "Saving placementdata.csv to placementdata.csv\n"
          ]
        }
      ]
    },
    {
      "cell_type": "markdown",
      "source": [
        "📌 Step 1: Data Loading & Inspection"
      ],
      "metadata": {
        "id": "TZXWvvYHM1Mo"
      }
    },
    {
      "cell_type": "code",
      "source": [
        "import pandas as pd\n",
        "import numpy as np\n",
        "import matplotlib.pyplot as plt\n",
        "\n",
        "\n",
        "# Load data\n",
        "df = pd.read_csv('placementdata.csv')\n",
        "\n",
        "# Basic inspection\n",
        "print(\"First 5 rows:\")\n",
        "df.head()\n",
        "\n",
        "\n"
      ],
      "metadata": {
        "colab": {
          "base_uri": "https://localhost:8080/",
          "height": 243
        },
        "id": "uobdyrfXMql2",
        "outputId": "4e1a2c6a-968d-4c4e-f835-0bc0ff7031ae"
      },
      "execution_count": 7,
      "outputs": [
        {
          "output_type": "stream",
          "name": "stdout",
          "text": [
            "First 5 rows:\n"
          ]
        },
        {
          "output_type": "execute_result",
          "data": {
            "text/plain": [
              "   StudentID  CGPA  Internships  Projects  Workshops/Certifications  AptitudeTestScore  \\\n",
              "0          1   7.5            1         1                         1                 65   \n",
              "1          2   8.9            0         3                         2                 90   \n",
              "2          3   7.3            1         2                         2                 82   \n",
              "3          4   7.5            1         1                         2                 85   \n",
              "4          5   8.3            1         2                         2                 86   \n",
              "\n",
              "   SoftSkillsRating ExtracurricularActivities PlacementTraining  SSC_Marks  HSC_Marks  \\\n",
              "0               4.4                        No                No         61         79   \n",
              "1               4.0                       Yes               Yes         78         82   \n",
              "2               4.8                       Yes                No         79         80   \n",
              "3               4.4                       Yes               Yes         81         80   \n",
              "4               4.5                       Yes               Yes         74         88   \n",
              "\n",
              "  PlacementStatus  \n",
              "0       NotPlaced  \n",
              "1          Placed  \n",
              "2       NotPlaced  \n",
              "3          Placed  \n",
              "4          Placed  "
            ],
            "text/html": [
              "\n",
              "  <div id=\"df-c6a4c030-14aa-4a27-98e3-c178649c8a86\" class=\"colab-df-container\">\n",
              "    <div>\n",
              "<style scoped>\n",
              "    .dataframe tbody tr th:only-of-type {\n",
              "        vertical-align: middle;\n",
              "    }\n",
              "\n",
              "    .dataframe tbody tr th {\n",
              "        vertical-align: top;\n",
              "    }\n",
              "\n",
              "    .dataframe thead th {\n",
              "        text-align: right;\n",
              "    }\n",
              "</style>\n",
              "<table border=\"1\" class=\"dataframe\">\n",
              "  <thead>\n",
              "    <tr style=\"text-align: right;\">\n",
              "      <th></th>\n",
              "      <th>StudentID</th>\n",
              "      <th>CGPA</th>\n",
              "      <th>Internships</th>\n",
              "      <th>Projects</th>\n",
              "      <th>Workshops/Certifications</th>\n",
              "      <th>AptitudeTestScore</th>\n",
              "      <th>SoftSkillsRating</th>\n",
              "      <th>ExtracurricularActivities</th>\n",
              "      <th>PlacementTraining</th>\n",
              "      <th>SSC_Marks</th>\n",
              "      <th>HSC_Marks</th>\n",
              "      <th>PlacementStatus</th>\n",
              "    </tr>\n",
              "  </thead>\n",
              "  <tbody>\n",
              "    <tr>\n",
              "      <th>0</th>\n",
              "      <td>1</td>\n",
              "      <td>7.5</td>\n",
              "      <td>1</td>\n",
              "      <td>1</td>\n",
              "      <td>1</td>\n",
              "      <td>65</td>\n",
              "      <td>4.4</td>\n",
              "      <td>No</td>\n",
              "      <td>No</td>\n",
              "      <td>61</td>\n",
              "      <td>79</td>\n",
              "      <td>NotPlaced</td>\n",
              "    </tr>\n",
              "    <tr>\n",
              "      <th>1</th>\n",
              "      <td>2</td>\n",
              "      <td>8.9</td>\n",
              "      <td>0</td>\n",
              "      <td>3</td>\n",
              "      <td>2</td>\n",
              "      <td>90</td>\n",
              "      <td>4.0</td>\n",
              "      <td>Yes</td>\n",
              "      <td>Yes</td>\n",
              "      <td>78</td>\n",
              "      <td>82</td>\n",
              "      <td>Placed</td>\n",
              "    </tr>\n",
              "    <tr>\n",
              "      <th>2</th>\n",
              "      <td>3</td>\n",
              "      <td>7.3</td>\n",
              "      <td>1</td>\n",
              "      <td>2</td>\n",
              "      <td>2</td>\n",
              "      <td>82</td>\n",
              "      <td>4.8</td>\n",
              "      <td>Yes</td>\n",
              "      <td>No</td>\n",
              "      <td>79</td>\n",
              "      <td>80</td>\n",
              "      <td>NotPlaced</td>\n",
              "    </tr>\n",
              "    <tr>\n",
              "      <th>3</th>\n",
              "      <td>4</td>\n",
              "      <td>7.5</td>\n",
              "      <td>1</td>\n",
              "      <td>1</td>\n",
              "      <td>2</td>\n",
              "      <td>85</td>\n",
              "      <td>4.4</td>\n",
              "      <td>Yes</td>\n",
              "      <td>Yes</td>\n",
              "      <td>81</td>\n",
              "      <td>80</td>\n",
              "      <td>Placed</td>\n",
              "    </tr>\n",
              "    <tr>\n",
              "      <th>4</th>\n",
              "      <td>5</td>\n",
              "      <td>8.3</td>\n",
              "      <td>1</td>\n",
              "      <td>2</td>\n",
              "      <td>2</td>\n",
              "      <td>86</td>\n",
              "      <td>4.5</td>\n",
              "      <td>Yes</td>\n",
              "      <td>Yes</td>\n",
              "      <td>74</td>\n",
              "      <td>88</td>\n",
              "      <td>Placed</td>\n",
              "    </tr>\n",
              "  </tbody>\n",
              "</table>\n",
              "</div>\n",
              "    <div class=\"colab-df-buttons\">\n",
              "\n",
              "  <div class=\"colab-df-container\">\n",
              "    <button class=\"colab-df-convert\" onclick=\"convertToInteractive('df-c6a4c030-14aa-4a27-98e3-c178649c8a86')\"\n",
              "            title=\"Convert this dataframe to an interactive table.\"\n",
              "            style=\"display:none;\">\n",
              "\n",
              "  <svg xmlns=\"http://www.w3.org/2000/svg\" height=\"24px\" viewBox=\"0 -960 960 960\">\n",
              "    <path d=\"M120-120v-720h720v720H120Zm60-500h600v-160H180v160Zm220 220h160v-160H400v160Zm0 220h160v-160H400v160ZM180-400h160v-160H180v160Zm440 0h160v-160H620v160ZM180-180h160v-160H180v160Zm440 0h160v-160H620v160Z\"/>\n",
              "  </svg>\n",
              "    </button>\n",
              "\n",
              "  <style>\n",
              "    .colab-df-container {\n",
              "      display:flex;\n",
              "      gap: 12px;\n",
              "    }\n",
              "\n",
              "    .colab-df-convert {\n",
              "      background-color: #E8F0FE;\n",
              "      border: none;\n",
              "      border-radius: 50%;\n",
              "      cursor: pointer;\n",
              "      display: none;\n",
              "      fill: #1967D2;\n",
              "      height: 32px;\n",
              "      padding: 0 0 0 0;\n",
              "      width: 32px;\n",
              "    }\n",
              "\n",
              "    .colab-df-convert:hover {\n",
              "      background-color: #E2EBFA;\n",
              "      box-shadow: 0px 1px 2px rgba(60, 64, 67, 0.3), 0px 1px 3px 1px rgba(60, 64, 67, 0.15);\n",
              "      fill: #174EA6;\n",
              "    }\n",
              "\n",
              "    .colab-df-buttons div {\n",
              "      margin-bottom: 4px;\n",
              "    }\n",
              "\n",
              "    [theme=dark] .colab-df-convert {\n",
              "      background-color: #3B4455;\n",
              "      fill: #D2E3FC;\n",
              "    }\n",
              "\n",
              "    [theme=dark] .colab-df-convert:hover {\n",
              "      background-color: #434B5C;\n",
              "      box-shadow: 0px 1px 3px 1px rgba(0, 0, 0, 0.15);\n",
              "      filter: drop-shadow(0px 1px 2px rgba(0, 0, 0, 0.3));\n",
              "      fill: #FFFFFF;\n",
              "    }\n",
              "  </style>\n",
              "\n",
              "    <script>\n",
              "      const buttonEl =\n",
              "        document.querySelector('#df-c6a4c030-14aa-4a27-98e3-c178649c8a86 button.colab-df-convert');\n",
              "      buttonEl.style.display =\n",
              "        google.colab.kernel.accessAllowed ? 'block' : 'none';\n",
              "\n",
              "      async function convertToInteractive(key) {\n",
              "        const element = document.querySelector('#df-c6a4c030-14aa-4a27-98e3-c178649c8a86');\n",
              "        const dataTable =\n",
              "          await google.colab.kernel.invokeFunction('convertToInteractive',\n",
              "                                                    [key], {});\n",
              "        if (!dataTable) return;\n",
              "\n",
              "        const docLinkHtml = 'Like what you see? Visit the ' +\n",
              "          '<a target=\"_blank\" href=https://colab.research.google.com/notebooks/data_table.ipynb>data table notebook</a>'\n",
              "          + ' to learn more about interactive tables.';\n",
              "        element.innerHTML = '';\n",
              "        dataTable['output_type'] = 'display_data';\n",
              "        await google.colab.output.renderOutput(dataTable, element);\n",
              "        const docLink = document.createElement('div');\n",
              "        docLink.innerHTML = docLinkHtml;\n",
              "        element.appendChild(docLink);\n",
              "      }\n",
              "    </script>\n",
              "  </div>\n",
              "\n",
              "\n",
              "<div id=\"df-85e8910b-02b0-4e88-b757-d44bead334e8\">\n",
              "  <button class=\"colab-df-quickchart\" onclick=\"quickchart('df-85e8910b-02b0-4e88-b757-d44bead334e8')\"\n",
              "            title=\"Suggest charts\"\n",
              "            style=\"display:none;\">\n",
              "\n",
              "<svg xmlns=\"http://www.w3.org/2000/svg\" height=\"24px\"viewBox=\"0 0 24 24\"\n",
              "     width=\"24px\">\n",
              "    <g>\n",
              "        <path d=\"M19 3H5c-1.1 0-2 .9-2 2v14c0 1.1.9 2 2 2h14c1.1 0 2-.9 2-2V5c0-1.1-.9-2-2-2zM9 17H7v-7h2v7zm4 0h-2V7h2v10zm4 0h-2v-4h2v4z\"/>\n",
              "    </g>\n",
              "</svg>\n",
              "  </button>\n",
              "\n",
              "<style>\n",
              "  .colab-df-quickchart {\n",
              "      --bg-color: #E8F0FE;\n",
              "      --fill-color: #1967D2;\n",
              "      --hover-bg-color: #E2EBFA;\n",
              "      --hover-fill-color: #174EA6;\n",
              "      --disabled-fill-color: #AAA;\n",
              "      --disabled-bg-color: #DDD;\n",
              "  }\n",
              "\n",
              "  [theme=dark] .colab-df-quickchart {\n",
              "      --bg-color: #3B4455;\n",
              "      --fill-color: #D2E3FC;\n",
              "      --hover-bg-color: #434B5C;\n",
              "      --hover-fill-color: #FFFFFF;\n",
              "      --disabled-bg-color: #3B4455;\n",
              "      --disabled-fill-color: #666;\n",
              "  }\n",
              "\n",
              "  .colab-df-quickchart {\n",
              "    background-color: var(--bg-color);\n",
              "    border: none;\n",
              "    border-radius: 50%;\n",
              "    cursor: pointer;\n",
              "    display: none;\n",
              "    fill: var(--fill-color);\n",
              "    height: 32px;\n",
              "    padding: 0;\n",
              "    width: 32px;\n",
              "  }\n",
              "\n",
              "  .colab-df-quickchart:hover {\n",
              "    background-color: var(--hover-bg-color);\n",
              "    box-shadow: 0 1px 2px rgba(60, 64, 67, 0.3), 0 1px 3px 1px rgba(60, 64, 67, 0.15);\n",
              "    fill: var(--button-hover-fill-color);\n",
              "  }\n",
              "\n",
              "  .colab-df-quickchart-complete:disabled,\n",
              "  .colab-df-quickchart-complete:disabled:hover {\n",
              "    background-color: var(--disabled-bg-color);\n",
              "    fill: var(--disabled-fill-color);\n",
              "    box-shadow: none;\n",
              "  }\n",
              "\n",
              "  .colab-df-spinner {\n",
              "    border: 2px solid var(--fill-color);\n",
              "    border-color: transparent;\n",
              "    border-bottom-color: var(--fill-color);\n",
              "    animation:\n",
              "      spin 1s steps(1) infinite;\n",
              "  }\n",
              "\n",
              "  @keyframes spin {\n",
              "    0% {\n",
              "      border-color: transparent;\n",
              "      border-bottom-color: var(--fill-color);\n",
              "      border-left-color: var(--fill-color);\n",
              "    }\n",
              "    20% {\n",
              "      border-color: transparent;\n",
              "      border-left-color: var(--fill-color);\n",
              "      border-top-color: var(--fill-color);\n",
              "    }\n",
              "    30% {\n",
              "      border-color: transparent;\n",
              "      border-left-color: var(--fill-color);\n",
              "      border-top-color: var(--fill-color);\n",
              "      border-right-color: var(--fill-color);\n",
              "    }\n",
              "    40% {\n",
              "      border-color: transparent;\n",
              "      border-right-color: var(--fill-color);\n",
              "      border-top-color: var(--fill-color);\n",
              "    }\n",
              "    60% {\n",
              "      border-color: transparent;\n",
              "      border-right-color: var(--fill-color);\n",
              "    }\n",
              "    80% {\n",
              "      border-color: transparent;\n",
              "      border-right-color: var(--fill-color);\n",
              "      border-bottom-color: var(--fill-color);\n",
              "    }\n",
              "    90% {\n",
              "      border-color: transparent;\n",
              "      border-bottom-color: var(--fill-color);\n",
              "    }\n",
              "  }\n",
              "</style>\n",
              "\n",
              "  <script>\n",
              "    async function quickchart(key) {\n",
              "      const quickchartButtonEl =\n",
              "        document.querySelector('#' + key + ' button');\n",
              "      quickchartButtonEl.disabled = true;  // To prevent multiple clicks.\n",
              "      quickchartButtonEl.classList.add('colab-df-spinner');\n",
              "      try {\n",
              "        const charts = await google.colab.kernel.invokeFunction(\n",
              "            'suggestCharts', [key], {});\n",
              "      } catch (error) {\n",
              "        console.error('Error during call to suggestCharts:', error);\n",
              "      }\n",
              "      quickchartButtonEl.classList.remove('colab-df-spinner');\n",
              "      quickchartButtonEl.classList.add('colab-df-quickchart-complete');\n",
              "    }\n",
              "    (() => {\n",
              "      let quickchartButtonEl =\n",
              "        document.querySelector('#df-85e8910b-02b0-4e88-b757-d44bead334e8 button');\n",
              "      quickchartButtonEl.style.display =\n",
              "        google.colab.kernel.accessAllowed ? 'block' : 'none';\n",
              "    })();\n",
              "  </script>\n",
              "</div>\n",
              "\n",
              "    </div>\n",
              "  </div>\n"
            ],
            "application/vnd.google.colaboratory.intrinsic+json": {
              "type": "dataframe",
              "variable_name": "df",
              "summary": "{\n  \"name\": \"df\",\n  \"rows\": 10000,\n  \"fields\": [\n    {\n      \"column\": \"StudentID\",\n      \"properties\": {\n        \"dtype\": \"number\",\n        \"std\": 2886,\n        \"min\": 1,\n        \"max\": 10000,\n        \"num_unique_values\": 10000,\n        \"samples\": [\n          6253,\n          4685,\n          1732\n        ],\n        \"semantic_type\": \"\",\n        \"description\": \"\"\n      }\n    },\n    {\n      \"column\": \"CGPA\",\n      \"properties\": {\n        \"dtype\": \"number\",\n        \"std\": 0.6401312495900275,\n        \"min\": 6.5,\n        \"max\": 9.1,\n        \"num_unique_values\": 27,\n        \"samples\": [\n          7.9,\n          7.6,\n          7.4\n        ],\n        \"semantic_type\": \"\",\n        \"description\": \"\"\n      }\n    },\n    {\n      \"column\": \"Internships\",\n      \"properties\": {\n        \"dtype\": \"number\",\n        \"std\": 0,\n        \"min\": 0,\n        \"max\": 2,\n        \"num_unique_values\": 3,\n        \"samples\": [\n          1,\n          0,\n          2\n        ],\n        \"semantic_type\": \"\",\n        \"description\": \"\"\n      }\n    },\n    {\n      \"column\": \"Projects\",\n      \"properties\": {\n        \"dtype\": \"number\",\n        \"std\": 0,\n        \"min\": 0,\n        \"max\": 3,\n        \"num_unique_values\": 4,\n        \"samples\": [\n          3,\n          0,\n          1\n        ],\n        \"semantic_type\": \"\",\n        \"description\": \"\"\n      }\n    },\n    {\n      \"column\": \"Workshops/Certifications\",\n      \"properties\": {\n        \"dtype\": \"number\",\n        \"std\": 0,\n        \"min\": 0,\n        \"max\": 3,\n        \"num_unique_values\": 4,\n        \"samples\": [\n          2,\n          3,\n          1\n        ],\n        \"semantic_type\": \"\",\n        \"description\": \"\"\n      }\n    },\n    {\n      \"column\": \"AptitudeTestScore\",\n      \"properties\": {\n        \"dtype\": \"number\",\n        \"std\": 8,\n        \"min\": 60,\n        \"max\": 90,\n        \"num_unique_values\": 31,\n        \"samples\": [\n          69,\n          77,\n          62\n        ],\n        \"semantic_type\": \"\",\n        \"description\": \"\"\n      }\n    },\n    {\n      \"column\": \"SoftSkillsRating\",\n      \"properties\": {\n        \"dtype\": \"number\",\n        \"std\": 0.41162223176862817,\n        \"min\": 3.0,\n        \"max\": 4.8,\n        \"num_unique_values\": 19,\n        \"samples\": [\n          4.4,\n          3.5,\n          3.8\n        ],\n        \"semantic_type\": \"\",\n        \"description\": \"\"\n      }\n    },\n    {\n      \"column\": \"ExtracurricularActivities\",\n      \"properties\": {\n        \"dtype\": \"category\",\n        \"num_unique_values\": 2,\n        \"samples\": [\n          \"Yes\",\n          \"No\"\n        ],\n        \"semantic_type\": \"\",\n        \"description\": \"\"\n      }\n    },\n    {\n      \"column\": \"PlacementTraining\",\n      \"properties\": {\n        \"dtype\": \"category\",\n        \"num_unique_values\": 2,\n        \"samples\": [\n          \"Yes\",\n          \"No\"\n        ],\n        \"semantic_type\": \"\",\n        \"description\": \"\"\n      }\n    },\n    {\n      \"column\": \"SSC_Marks\",\n      \"properties\": {\n        \"dtype\": \"number\",\n        \"std\": 10,\n        \"min\": 55,\n        \"max\": 90,\n        \"num_unique_values\": 36,\n        \"samples\": [\n          89,\n          63\n        ],\n        \"semantic_type\": \"\",\n        \"description\": \"\"\n      }\n    },\n    {\n      \"column\": \"HSC_Marks\",\n      \"properties\": {\n        \"dtype\": \"number\",\n        \"std\": 8,\n        \"min\": 57,\n        \"max\": 88,\n        \"num_unique_values\": 32,\n        \"samples\": [\n          59,\n          69\n        ],\n        \"semantic_type\": \"\",\n        \"description\": \"\"\n      }\n    },\n    {\n      \"column\": \"PlacementStatus\",\n      \"properties\": {\n        \"dtype\": \"category\",\n        \"num_unique_values\": 2,\n        \"samples\": [\n          \"Placed\",\n          \"NotPlaced\"\n        ],\n        \"semantic_type\": \"\",\n        \"description\": \"\"\n      }\n    }\n  ]\n}"
            }
          },
          "metadata": {},
          "execution_count": 7
        }
      ]
    },
    {
      "cell_type": "code",
      "source": [
        "print(\"\\nDataset info:\")\n",
        "df.info()\n"
      ],
      "metadata": {
        "colab": {
          "base_uri": "https://localhost:8080/"
        },
        "id": "-YrbrVppBBqS",
        "outputId": "4a59eb44-1011-4908-feff-1b8cbef0abda"
      },
      "execution_count": 8,
      "outputs": [
        {
          "output_type": "stream",
          "name": "stdout",
          "text": [
            "\n",
            "Dataset info:\n",
            "<class 'pandas.core.frame.DataFrame'>\n",
            "RangeIndex: 10000 entries, 0 to 9999\n",
            "Data columns (total 12 columns):\n",
            " #   Column                     Non-Null Count  Dtype  \n",
            "---  ------                     --------------  -----  \n",
            " 0   StudentID                  10000 non-null  int64  \n",
            " 1   CGPA                       10000 non-null  float64\n",
            " 2   Internships                10000 non-null  int64  \n",
            " 3   Projects                   10000 non-null  int64  \n",
            " 4   Workshops/Certifications   10000 non-null  int64  \n",
            " 5   AptitudeTestScore          10000 non-null  int64  \n",
            " 6   SoftSkillsRating           10000 non-null  float64\n",
            " 7   ExtracurricularActivities  10000 non-null  object \n",
            " 8   PlacementTraining          10000 non-null  object \n",
            " 9   SSC_Marks                  10000 non-null  int64  \n",
            " 10  HSC_Marks                  10000 non-null  int64  \n",
            " 11  PlacementStatus            10000 non-null  object \n",
            "dtypes: float64(2), int64(7), object(3)\n",
            "memory usage: 937.6+ KB\n"
          ]
        }
      ]
    },
    {
      "cell_type": "code",
      "source": [
        "print(\"\\nMissing values:\")\n",
        "print(df.isna().sum())"
      ],
      "metadata": {
        "colab": {
          "base_uri": "https://localhost:8080/"
        },
        "id": "0KT37Bq7BFhR",
        "outputId": "cbad5cdd-77bf-47a4-dcf0-e10e4d338a6c"
      },
      "execution_count": 9,
      "outputs": [
        {
          "output_type": "stream",
          "name": "stdout",
          "text": [
            "\n",
            "Missing values:\n",
            "StudentID                    0\n",
            "CGPA                         0\n",
            "Internships                  0\n",
            "Projects                     0\n",
            "Workshops/Certifications     0\n",
            "AptitudeTestScore            0\n",
            "SoftSkillsRating             0\n",
            "ExtracurricularActivities    0\n",
            "PlacementTraining            0\n",
            "SSC_Marks                    0\n",
            "HSC_Marks                    0\n",
            "PlacementStatus              0\n",
            "dtype: int64\n"
          ]
        }
      ]
    },
    {
      "cell_type": "markdown",
      "source": [
        "📌 Step 2: Data Cleaning with NumPy/Pandas"
      ],
      "metadata": {
        "id": "S6MTdz2EM78o"
      }
    },
    {
      "cell_type": "code",
      "source": [
        "# Fill missing CGPA with median (NumPy approach)\n",
        "cgpa_median = np.nanmedian(df['CGPA'])\n",
        "df['CGPA'] = df['CGPA'].fillna(cgpa_median)\n",
        "\n",
        "# Convert categorical to numerical (Pandas map)\n",
        "df['PlacementStatus'] = df['PlacementStatus'].map({'Placed': 1, 'Not Placed': 0})\n",
        "df['PlacementTraining'] = df['PlacementTraining'].map({'Yes': 1, 'No': 0})\n",
        "df['ExtracurricularActivities'] = df['ExtracurricularActivities'].map({'Yes': 1, 'No': 0})\n"
      ],
      "metadata": {
        "id": "vtIAuTexMuFY"
      },
      "execution_count": 10,
      "outputs": []
    },
    {
      "cell_type": "markdown",
      "source": [
        "📌 Step 3: Data Analysis Operations"
      ],
      "metadata": {
        "id": "23ck3MSQNKir"
      }
    },
    {
      "cell_type": "code",
      "source": [
        "#A. Basic Statistics with NumPy\n",
        "print(\"\\nBasic statistics:\")\n",
        "print(\"Mean CGPA:\", np.mean(df['CGPA']))\n",
        "print(\"Median Aptitude Score:\", np.median(df['AptitudeTestScore']))\n",
        "print(\"Standard deviation of Soft Skills Rating:\", np.std(df['SoftSkillsRating']))\n"
      ],
      "metadata": {
        "colab": {
          "base_uri": "https://localhost:8080/"
        },
        "id": "Yn-hms50NFah",
        "outputId": "24565f56-0d25-45cf-ec6f-72f1ba3f1f05"
      },
      "execution_count": 11,
      "outputs": [
        {
          "output_type": "stream",
          "name": "stdout",
          "text": [
            "\n",
            "Basic statistics:\n",
            "Mean CGPA: 7.698010000000001\n",
            "Median Aptitude Score: 80.0\n",
            "Standard deviation of Soft Skills Rating: 0.4116016501424862\n"
          ]
        }
      ]
    },
    {
      "cell_type": "code",
      "source": [
        "#B. Advanced Pandas Operations\n",
        "# Groupby analysis\n",
        "training_effect = df.groupby('PlacementTraining')['PlacementStatus'].mean()\n",
        "print(\"\\nPlacement rate by training:\")\n",
        "print(training_effect)\n",
        "\n",
        "# Filtering\n",
        "high_cgpa_placed = df[(df['CGPA'] > 8.0) & (df['PlacementStatus'] == 1)]\n",
        "print(\"\\nNumber of placed students with CGPA > 8.0:\", len(high_cgpa_placed))\n"
      ],
      "metadata": {
        "colab": {
          "base_uri": "https://localhost:8080/"
        },
        "id": "3gscDC9eNOHe",
        "outputId": "5785aac3-3a85-4dbc-845c-9bd76f8a8c47"
      },
      "execution_count": null,
      "outputs": [
        {
          "output_type": "stream",
          "name": "stdout",
          "text": [
            "\n",
            "Placement rate by training:\n",
            "PlacementTraining\n",
            "0    1.0\n",
            "1    1.0\n",
            "Name: PlacementStatus, dtype: float64\n",
            "\n",
            "Number of placed students with CGPA > 8.0: 2457\n"
          ]
        }
      ]
    },
    {
      "cell_type": "code",
      "source": [
        "#C. Pivot Tables\n",
        "pivot = pd.pivot_table(df,\n",
        "                       index='PlacementTraining',\n",
        "                       columns='ExtracurricularActivities',\n",
        "                       values='PlacementStatus',\n",
        "                       aggfunc='mean')\n",
        "print(\"\\nPlacement rate by training and extracurricular activities:\")\n",
        "print(pivot)\n",
        "\n"
      ],
      "metadata": {
        "colab": {
          "base_uri": "https://localhost:8080/"
        },
        "id": "Ae_oue-WNfp2",
        "outputId": "25999f18-f4d1-4b32-98f8-56314dd50e19"
      },
      "execution_count": null,
      "outputs": [
        {
          "output_type": "stream",
          "name": "stdout",
          "text": [
            "\n",
            "Placement rate by training and extracurricular activities:\n",
            "ExtracurricularActivities    0    1\n",
            "PlacementTraining                  \n",
            "0                          1.0  1.0\n",
            "1                          1.0  1.0\n"
          ]
        }
      ]
    },
    {
      "cell_type": "code",
      "source": [
        "#  Creating arrays from columns\n",
        "cgpa_array = np.array(df['CGPA'])\n",
        "apt_array = np.array(df['AptitudeTestScore'])\n",
        "print(\"CGPA array:\", cgpa_array[:5])\n",
        "print(\"Aptitude array:\", apt_array[:5])\n"
      ],
      "metadata": {
        "colab": {
          "base_uri": "https://localhost:8080/"
        },
        "id": "3tHoQWpjP7Jh",
        "outputId": "d0b0d172-1b69-4c6a-eb75-002656a50418"
      },
      "execution_count": null,
      "outputs": [
        {
          "output_type": "stream",
          "name": "stdout",
          "text": [
            "CGPA array: [7.5 8.9 7.3 7.5 8.3]\n",
            "Aptitude array: [65 90 82 85 86]\n"
          ]
        }
      ]
    },
    {
      "cell_type": "code",
      "source": [
        "#  Indexing and slicing from CGPA array\n",
        "print(\"First CGPA:\", cgpa_array[0])\n",
        "print(\"CGPAs from index 2 to 6:\", cgpa_array[2:7])\n"
      ],
      "metadata": {
        "colab": {
          "base_uri": "https://localhost:8080/"
        },
        "id": "qFgYeV3_P_Vs",
        "outputId": "4a5674ee-89a3-49de-dfe9-45bd95ae176a"
      },
      "execution_count": null,
      "outputs": [
        {
          "output_type": "stream",
          "name": "stdout",
          "text": [
            "First CGPA: 7.5\n",
            "CGPAs from index 2 to 6: [7.3 7.5 8.3 7.  7.7]\n"
          ]
        }
      ]
    },
    {
      "cell_type": "code",
      "source": [
        "#  Indexing and slicing from CGPA array\n",
        "print(\"First CGPA:\", cgpa_array[0])\n",
        "print(\"CGPAs from index 2 to 6:\", cgpa_array[2:7])\n"
      ],
      "metadata": {
        "colab": {
          "base_uri": "https://localhost:8080/"
        },
        "id": "MerSG1-tQB43",
        "outputId": "240a81db-0192-4c1c-dafe-0c9cbbc88cf2"
      },
      "execution_count": null,
      "outputs": [
        {
          "output_type": "stream",
          "name": "stdout",
          "text": [
            "First CGPA: 7.5\n",
            "CGPAs from index 2 to 6: [7.3 7.5 8.3 7.  7.7]\n"
          ]
        }
      ]
    },
    {
      "cell_type": "code",
      "source": [
        "# Reshape CGPA array into 2D (if total is divisible)\n",
        "reshaped_cgpa = cgpa_array[:12].reshape(4, 3)\n",
        "print(\"Reshaped CGPA (4x3):\\n\", reshaped_cgpa)\n"
      ],
      "metadata": {
        "colab": {
          "base_uri": "https://localhost:8080/"
        },
        "id": "1OoOWDxLQF9v",
        "outputId": "2b812445-a433-4669-8d27-871bd53b05c3"
      },
      "execution_count": null,
      "outputs": [
        {
          "output_type": "stream",
          "name": "stdout",
          "text": [
            "Reshaped CGPA (4x3):\n",
            " [[7.5 8.9 7.3]\n",
            " [7.5 8.3 7. ]\n",
            " [7.7 7.7 6.5]\n",
            " [7.8 8.3 7.9]]\n"
          ]
        }
      ]
    },
    {
      "cell_type": "code",
      "source": [
        "# Concatenate CGPA and Aptitude arrays\n",
        "combined = np.concatenate((cgpa_array[:5], apt_array[:5]))\n",
        "print(\"Concatenated CGPA + Aptitude:\", combined)\n",
        "\n",
        "# Split combined array\n",
        "split_combined = np.array_split(combined, 2)\n",
        "print(\"Split arrays:\", split_combined)\n"
      ],
      "metadata": {
        "colab": {
          "base_uri": "https://localhost:8080/"
        },
        "id": "BxnfrItlQJLw",
        "outputId": "e33d3d7d-53f4-4151-ac99-8f73731579c2"
      },
      "execution_count": null,
      "outputs": [
        {
          "output_type": "stream",
          "name": "stdout",
          "text": [
            "Concatenated CGPA + Aptitude: [ 7.5  8.9  7.3  7.5  8.3 65.  90.  82.  85.  86. ]\n",
            "Split arrays: [array([7.5, 8.9, 7.3, 7.5, 8.3]), array([65., 90., 82., 85., 86.])]\n"
          ]
        }
      ]
    },
    {
      "cell_type": "code",
      "source": [
        "# ✅ Apply universal functions\n",
        "print(\"Squared CGPA values:\", np.square(cgpa_array[:5]))\n",
        "print(\"Log of Aptitude scores:\", np.log1p(apt_array[:5]))\n",
        "print(\"Exponential of Soft Skills:\", np.exp(df['SoftSkillsRating'][:5]))\n"
      ],
      "metadata": {
        "colab": {
          "base_uri": "https://localhost:8080/"
        },
        "id": "_eVQUHmXQNWR",
        "outputId": "9bb0d3de-19bc-4e56-c3c4-f825cf5a8ba1"
      },
      "execution_count": null,
      "outputs": [
        {
          "output_type": "stream",
          "name": "stdout",
          "text": [
            "Squared CGPA values: [56.25 79.21 53.29 56.25 68.89]\n",
            "Log of Aptitude scores: [4.18965474 4.51085951 4.41884061 4.4543473  4.46590812]\n",
            "Exponential of Soft Skills: 0     81.450869\n",
            "1     54.598150\n",
            "2    121.510418\n",
            "3     81.450869\n",
            "4     90.017131\n",
            "Name: SoftSkillsRating, dtype: float64\n"
          ]
        }
      ]
    },
    {
      "cell_type": "code",
      "source": [
        "#  Aggregate statistics\n",
        "print(\"Mean CGPA:\", np.mean(cgpa_array))\n",
        "print(\"Max Aptitude Score:\", np.max(apt_array))\n",
        "print(\"Std Dev of Soft Skills:\", np.std(df['SoftSkillsRating']))\n"
      ],
      "metadata": {
        "colab": {
          "base_uri": "https://localhost:8080/"
        },
        "id": "NFH_T9deQO6F",
        "outputId": "0b9719b6-2c17-434c-86a2-39db60b2e01d"
      },
      "execution_count": null,
      "outputs": [
        {
          "output_type": "stream",
          "name": "stdout",
          "text": [
            "Mean CGPA: 7.698010000000001\n",
            "Max Aptitude Score: 90\n",
            "Std Dev of Soft Skills: 0.4116016501424862\n"
          ]
        }
      ]
    },
    {
      "cell_type": "code",
      "source": [
        "#  Add bonus marks to Aptitude scores (broadcasting)\n",
        "bonus = 5\n",
        "updated_apt = apt_array + bonus\n",
        "print(\"Aptitude after bonus:\", updated_apt[:5])\n"
      ],
      "metadata": {
        "colab": {
          "base_uri": "https://localhost:8080/"
        },
        "id": "DZQocQJLQSUk",
        "outputId": "2563f0ec-0bc2-4f24-d038-56d141b82cec"
      },
      "execution_count": null,
      "outputs": [
        {
          "output_type": "stream",
          "name": "stdout",
          "text": [
            "Aptitude after bonus: [70 95 87 90 91]\n"
          ]
        }
      ]
    },
    {
      "cell_type": "code",
      "source": [
        "#  Mask: CGPA > 8\n",
        "high_cgpa = cgpa_array > 8\n",
        "print(\"Students with CGPA > 8:\", cgpa_array[high_cgpa])\n",
        "\n",
        "# Fancy indexing\n",
        "print(\"CGPA at indices 1, 3, 5:\", cgpa_array[[1, 3, 5]])\n"
      ],
      "metadata": {
        "colab": {
          "base_uri": "https://localhost:8080/"
        },
        "id": "t0jrp9nnQUSz",
        "outputId": "fa3ac47e-9bc4-4982-8d22-9c1e2f377f5d"
      },
      "execution_count": null,
      "outputs": [
        {
          "output_type": "stream",
          "name": "stdout",
          "text": [
            "Students with CGPA > 8: [8.9 8.3 8.3 ... 8.4 8.9 8.4]\n",
            "CGPA at indices 1, 3, 5: [8.9 7.5 7. ]\n"
          ]
        }
      ]
    },
    {
      "cell_type": "code",
      "source": [
        "#  Sorting CGPA and Aptitude\n",
        "sorted_cgpa = np.sort(cgpa_array)\n",
        "print(\"Sorted CGPA:\", sorted_cgpa)\n",
        "\n",
        "sorted_apt = np.sort(apt_array)\n",
        "print(\"Sorted Aptitude Scores:\", sorted_apt)\n"
      ],
      "metadata": {
        "colab": {
          "base_uri": "https://localhost:8080/"
        },
        "id": "IMZB6lUTQZLk",
        "outputId": "0063893c-3e2e-4281-eccd-9c1cac075966"
      },
      "execution_count": null,
      "outputs": [
        {
          "output_type": "stream",
          "name": "stdout",
          "text": [
            "Sorted CGPA: [6.5 6.5 6.5 ... 9.1 9.1 9.1]\n",
            "Sorted Aptitude Scores: [60 60 60 ... 90 90 90]\n"
          ]
        }
      ]
    },
    {
      "cell_type": "code",
      "source": [
        "#  Structured array using StudentID and CGPA\n",
        "structured = np.array(list(zip(df['StudentID'], df['CGPA'])),\n",
        "                      dtype=[('student', 'U20'), ('cgpa', 'f4')])\n",
        "print(\"First 5 records in structured array:\")\n",
        "print(structured[:5])\n"
      ],
      "metadata": {
        "colab": {
          "base_uri": "https://localhost:8080/"
        },
        "id": "siQStKy5Qb6x",
        "outputId": "e289a49a-b9aa-4fd0-bf7a-7b3ef26a0265"
      },
      "execution_count": null,
      "outputs": [
        {
          "output_type": "stream",
          "name": "stdout",
          "text": [
            "First 5 records in structured array:\n",
            "[('1', 7.5) ('2', 8.9) ('3', 7.3) ('4', 7.5) ('5', 8.3)]\n"
          ]
        }
      ]
    },
    {
      "cell_type": "code",
      "source": [
        "# Creating a Pandas Series from CGPA\n",
        "cgpa_series = pd.Series(df['CGPA'])\n",
        "print(\"First 5 CGPA values:\")\n",
        "print(cgpa_series.head())"
      ],
      "metadata": {
        "colab": {
          "base_uri": "https://localhost:8080/"
        },
        "id": "Jin0yGWPB6t1",
        "outputId": "0b75aaab-baef-4ba4-8b7c-3ab0d0304844"
      },
      "execution_count": 12,
      "outputs": [
        {
          "output_type": "stream",
          "name": "stdout",
          "text": [
            "First 5 CGPA values:\n",
            "0    7.5\n",
            "1    8.9\n",
            "2    7.3\n",
            "3    7.5\n",
            "4    8.3\n",
            "Name: CGPA, dtype: float64\n"
          ]
        }
      ]
    },
    {
      "cell_type": "code",
      "source": [
        "# Creating a DataFrame from multiple columns\n",
        "mini_df = pd.DataFrame({\n",
        "    'CGPA': df['CGPA'],\n",
        "    'Aptitude': df['AptitudeTestScore'],\n",
        "    'PlacementStatus': df['PlacementStatus']\n",
        "})\n",
        "print(\"Mini DataFrame:\")\n",
        "print(mini_df.head())\n"
      ],
      "metadata": {
        "colab": {
          "base_uri": "https://localhost:8080/"
        },
        "id": "R2rEhiEXB85O",
        "outputId": "c1ad27f1-f57b-4f4e-ba92-a6d70a058e74"
      },
      "execution_count": 13,
      "outputs": [
        {
          "output_type": "stream",
          "name": "stdout",
          "text": [
            "Mini DataFrame:\n",
            "   CGPA  Aptitude  PlacementStatus\n",
            "0   7.5        65              NaN\n",
            "1   8.9        90              1.0\n",
            "2   7.3        82              NaN\n",
            "3   7.5        85              1.0\n",
            "4   8.3        86              1.0\n"
          ]
        }
      ]
    },
    {
      "cell_type": "code",
      "source": [
        "# Selecting single column\n",
        "print(\"CGPA column:\")\n",
        "print(df['CGPA'].head())\n",
        "\n",
        "# Selecting multiple columns\n",
        "print(\"CGPA and Aptitude columns:\")\n",
        "print(df[['CGPA', 'AptitudeTestScore']].head())\n",
        "\n",
        "# Row selection with .loc and .iloc\n",
        "print(\"Row at index 2 (loc):\")\n",
        "print(df.loc[2])\n",
        "\n",
        "print(\"Row at index 2 (iloc):\")\n",
        "print(df.iloc[2])\n"
      ],
      "metadata": {
        "colab": {
          "base_uri": "https://localhost:8080/"
        },
        "id": "LS5Pfm57B_HO",
        "outputId": "00203f3d-903a-485d-97d5-05063bba6a3c"
      },
      "execution_count": 14,
      "outputs": [
        {
          "output_type": "stream",
          "name": "stdout",
          "text": [
            "CGPA column:\n",
            "0    7.5\n",
            "1    8.9\n",
            "2    7.3\n",
            "3    7.5\n",
            "4    8.3\n",
            "Name: CGPA, dtype: float64\n",
            "CGPA and Aptitude columns:\n",
            "   CGPA  AptitudeTestScore\n",
            "0   7.5                 65\n",
            "1   8.9                 90\n",
            "2   7.3                 82\n",
            "3   7.5                 85\n",
            "4   8.3                 86\n",
            "Row at index 2 (loc):\n",
            "StudentID                     3.0\n",
            "CGPA                          7.3\n",
            "Internships                   1.0\n",
            "Projects                      2.0\n",
            "Workshops/Certifications      2.0\n",
            "AptitudeTestScore            82.0\n",
            "SoftSkillsRating              4.8\n",
            "ExtracurricularActivities     1.0\n",
            "PlacementTraining             0.0\n",
            "SSC_Marks                    79.0\n",
            "HSC_Marks                    80.0\n",
            "PlacementStatus               NaN\n",
            "Name: 2, dtype: float64\n",
            "Row at index 2 (iloc):\n",
            "StudentID                     3.0\n",
            "CGPA                          7.3\n",
            "Internships                   1.0\n",
            "Projects                      2.0\n",
            "Workshops/Certifications      2.0\n",
            "AptitudeTestScore            82.0\n",
            "SoftSkillsRating              4.8\n",
            "ExtracurricularActivities     1.0\n",
            "PlacementTraining             0.0\n",
            "SSC_Marks                    79.0\n",
            "HSC_Marks                    80.0\n",
            "PlacementStatus               NaN\n",
            "Name: 2, dtype: float64\n"
          ]
        }
      ]
    },
    {
      "cell_type": "code",
      "source": [
        "# Add CGPA and AptitudeTestScore (aligned by index)\n",
        "total_score = df['CGPA'] + df['AptitudeTestScore']\n",
        "print(\"Combined CGPA + Aptitude (first 5):\")\n",
        "print(total_score.head())\n",
        "\n",
        "# Subtract SSC and HSC Marks\n",
        "marks_diff = df['HSC_Marks'] - df['SSC_Marks']\n",
        "print(\"Difference in HSC and SSC marks:\")\n",
        "print(marks_diff.head())\n"
      ],
      "metadata": {
        "colab": {
          "base_uri": "https://localhost:8080/"
        },
        "id": "sGdULN0rCENB",
        "outputId": "8c608b9d-e218-47df-bca2-233a0a6722bf"
      },
      "execution_count": 15,
      "outputs": [
        {
          "output_type": "stream",
          "name": "stdout",
          "text": [
            "Combined CGPA + Aptitude (first 5):\n",
            "0    72.5\n",
            "1    98.9\n",
            "2    89.3\n",
            "3    92.5\n",
            "4    94.3\n",
            "dtype: float64\n",
            "Difference in HSC and SSC marks:\n",
            "0    18\n",
            "1     4\n",
            "2     1\n",
            "3    -1\n",
            "4    14\n",
            "dtype: int64\n"
          ]
        }
      ]
    },
    {
      "cell_type": "code",
      "source": [
        "# Check for missing values\n",
        "print(\"Missing values in each column:\")\n",
        "print(df.isna().sum())\n",
        "\n",
        "# Fill missing CGPA with median\n",
        "df['CGPA'] = df['CGPA'].fillna(df['CGPA'].median())\n",
        "\n",
        "# Drop rows with any missing values (if needed)\n",
        "df_cleaned = df.dropna()\n",
        "print(\"Rows after dropping NA:\", len(df_cleaned))\n"
      ],
      "metadata": {
        "colab": {
          "base_uri": "https://localhost:8080/"
        },
        "id": "aTB8Bis4CGqq",
        "outputId": "b4ae7d41-5915-4062-a0ab-6229b2dbebeb"
      },
      "execution_count": 16,
      "outputs": [
        {
          "output_type": "stream",
          "name": "stdout",
          "text": [
            "Missing values in each column:\n",
            "StudentID                       0\n",
            "CGPA                            0\n",
            "Internships                     0\n",
            "Projects                        0\n",
            "Workshops/Certifications        0\n",
            "AptitudeTestScore               0\n",
            "SoftSkillsRating                0\n",
            "ExtracurricularActivities       0\n",
            "PlacementTraining               0\n",
            "SSC_Marks                       0\n",
            "HSC_Marks                       0\n",
            "PlacementStatus              5803\n",
            "dtype: int64\n",
            "Rows after dropping NA: 4197\n"
          ]
        }
      ]
    },
    {
      "cell_type": "code",
      "source": [
        "# Set a multi-level index using PlacementTraining and PlacementStatus\n",
        "df_multi = df.set_index(['PlacementTraining', 'PlacementStatus'])\n",
        "print(\"Hierarchically indexed DataFrame:\")\n",
        "print(df_multi.head())\n",
        "\n",
        "# Accessing data from multi-index\n",
        "print(\"Data for Training=1 and Placed=1:\")\n",
        "print(df_multi.loc[(1, 1)].head())\n"
      ],
      "metadata": {
        "colab": {
          "base_uri": "https://localhost:8080/"
        },
        "id": "YmIeQ9LMCLas",
        "outputId": "2bb16696-e3ad-4553-f8c0-022d461c9512"
      },
      "execution_count": 17,
      "outputs": [
        {
          "output_type": "stream",
          "name": "stdout",
          "text": [
            "Hierarchically indexed DataFrame:\n",
            "                                   StudentID  CGPA  Internships  Projects  \\\n",
            "PlacementTraining PlacementStatus                                           \n",
            "0                 NaN                      1   7.5            1         1   \n",
            "1                 1.0                      2   8.9            0         3   \n",
            "0                 NaN                      3   7.3            1         2   \n",
            "1                 1.0                      4   7.5            1         1   \n",
            "                  1.0                      5   8.3            1         2   \n",
            "\n",
            "                                   Workshops/Certifications  AptitudeTestScore  SoftSkillsRating  \\\n",
            "PlacementTraining PlacementStatus                                                                  \n",
            "0                 NaN                                     1                 65               4.4   \n",
            "1                 1.0                                     2                 90               4.0   \n",
            "0                 NaN                                     2                 82               4.8   \n",
            "1                 1.0                                     2                 85               4.4   \n",
            "                  1.0                                     2                 86               4.5   \n",
            "\n",
            "                                   ExtracurricularActivities  SSC_Marks  HSC_Marks  \n",
            "PlacementTraining PlacementStatus                                                   \n",
            "0                 NaN                                      0         61         79  \n",
            "1                 1.0                                      1         78         82  \n",
            "0                 NaN                                      1         79         80  \n",
            "1                 1.0                                      1         81         80  \n",
            "                  1.0                                      1         74         88  \n",
            "Data for Training=1 and Placed=1:\n",
            "                                   StudentID  CGPA  Internships  Projects  \\\n",
            "PlacementTraining PlacementStatus                                           \n",
            "1                 1.0                      2   8.9            0         3   \n",
            "                  1.0                      4   7.5            1         1   \n",
            "                  1.0                      5   8.3            1         2   \n",
            "                  1.0                     10   7.8            1         3   \n",
            "                  1.0                     11   8.3            2         3   \n",
            "\n",
            "                                   Workshops/Certifications  AptitudeTestScore  SoftSkillsRating  \\\n",
            "PlacementTraining PlacementStatus                                                                  \n",
            "1                 1.0                                     2                 90               4.0   \n",
            "                  1.0                                     2                 85               4.4   \n",
            "                  1.0                                     2                 86               4.5   \n",
            "                  1.0                                     2                 79               4.4   \n",
            "                  1.0                                     2                 90               4.8   \n",
            "\n",
            "                                   ExtracurricularActivities  SSC_Marks  HSC_Marks  \n",
            "PlacementTraining PlacementStatus                                                   \n",
            "1                 1.0                                      1         78         82  \n",
            "                  1.0                                      1         81         80  \n",
            "                  1.0                                      1         74         88  \n",
            "                  1.0                                      1         85         86  \n",
            "                  1.0                                      1         82         88  \n"
          ]
        },
        {
          "output_type": "stream",
          "name": "stderr",
          "text": [
            "<ipython-input-17-ebdd80d524db>:8: PerformanceWarning: indexing past lexsort depth may impact performance.\n",
            "  print(df_multi.loc[(1, 1)].head())\n"
          ]
        }
      ]
    },
    {
      "cell_type": "code",
      "source": [
        "# Split data into two parts and then concatenate them back\n",
        "df_part1 = df.iloc[:len(df)//2]\n",
        "df_part2 = df.iloc[len(df)//2:]\n",
        "df_concat = pd.concat([df_part1, df_part2])\n",
        "\n",
        "print(\"Shape after concatenation:\", df_concat.shape)\n"
      ],
      "metadata": {
        "colab": {
          "base_uri": "https://localhost:8080/"
        },
        "id": "xDYI6RUDCO3D",
        "outputId": "3d2b7477-76c8-4946-8924-1bd78a754fc8"
      },
      "execution_count": 18,
      "outputs": [
        {
          "output_type": "stream",
          "name": "stdout",
          "text": [
            "Shape after concatenation: (10000, 12)\n"
          ]
        }
      ]
    },
    {
      "cell_type": "code",
      "source": [
        "#MERGING\n",
        "\n",
        "# Create dummy bonus data\n",
        "bonus_df = pd.DataFrame({\n",
        "    'StudentID': df['StudentID'],\n",
        "    'BonusPoints': np.random.randint(1, 10, len(df))\n",
        "})\n",
        "\n",
        "# Merge original df with bonus_df on StudentID\n",
        "df_merged = pd.merge(df, bonus_df, on='StudentID')\n",
        "print(\"Merged DataFrame with Bonus Points:\")\n",
        "print(df_merged[['StudentID', 'BonusPoints']].head())\n",
        "\n",
        "\n"
      ],
      "metadata": {
        "colab": {
          "base_uri": "https://localhost:8080/"
        },
        "id": "8zKqpDtACZQ5",
        "outputId": "39e3574b-6cc1-41c4-aa75-b99358dae5f1"
      },
      "execution_count": 23,
      "outputs": [
        {
          "output_type": "stream",
          "name": "stdout",
          "text": [
            "Merged DataFrame with Bonus Points:\n",
            "   StudentID  BonusPoints\n",
            "0          1            1\n",
            "1          2            4\n",
            "2          3            8\n",
            "3          4            3\n",
            "4          5            7\n"
          ]
        }
      ]
    },
    {
      "cell_type": "code",
      "source": [
        "#JOIN\n",
        "\n",
        "# Set StudentID as index and perform left join\n",
        "df_left_join = df.set_index('StudentID').join(bonus_df.set_index('StudentID'), how='left')\n",
        "\n",
        "print(\"Left Join Result:\")\n",
        "print(df_left_join[['CGPA', 'BonusPoints']].head())\n"
      ],
      "metadata": {
        "colab": {
          "base_uri": "https://localhost:8080/"
        },
        "id": "ZpYKvfT5C6T7",
        "outputId": "c820bb0a-5294-4443-9a32-447f3895076c"
      },
      "execution_count": 24,
      "outputs": [
        {
          "output_type": "stream",
          "name": "stdout",
          "text": [
            "Left Join Result:\n",
            "           CGPA  BonusPoints\n",
            "StudentID                   \n",
            "1           7.5            1\n",
            "2           8.9            4\n",
            "3           7.3            8\n",
            "4           7.5            3\n",
            "5           8.3            7\n"
          ]
        }
      ]
    },
    {
      "cell_type": "code",
      "source": [
        "#Grouping\n",
        "\n",
        "# Group by Placement Status and compute average CGPA and Aptitude\n",
        "grouped_stats = df.groupby('PlacementStatus')[['CGPA', 'AptitudeTestScore']].mean()\n",
        "print(\"Average CGPA and Aptitude by Placement Status:\")\n",
        "print(grouped_stats)\n"
      ],
      "metadata": {
        "colab": {
          "base_uri": "https://localhost:8080/"
        },
        "id": "y9ZGK_9QDCPV",
        "outputId": "9c70e8a8-8e41-455c-9b54-bfe636597f66"
      },
      "execution_count": 25,
      "outputs": [
        {
          "output_type": "stream",
          "name": "stdout",
          "text": [
            "Average CGPA and Aptitude by Placement Status:\n",
            "                     CGPA  AptitudeTestScore\n",
            "PlacementStatus                             \n",
            "1.0              8.016488          84.455802\n"
          ]
        }
      ]
    },
    {
      "cell_type": "code",
      "source": [
        "#PIVOT TABLE\n",
        "\n",
        "# Pivot table: Placement rate by training and extracurricular activities\n",
        "pivot_table = pd.pivot_table(df,\n",
        "                              index='PlacementTraining',\n",
        "                              columns='ExtracurricularActivities',\n",
        "                              values='PlacementStatus',\n",
        "                              aggfunc='mean')\n",
        "print(\"Placement rate by training and extracurricular activities:\")\n",
        "print(pivot_table)\n"
      ],
      "metadata": {
        "colab": {
          "base_uri": "https://localhost:8080/"
        },
        "id": "0V824s85DOxZ",
        "outputId": "10e8e1e4-0677-4a32-f122-41100297ea37"
      },
      "execution_count": 26,
      "outputs": [
        {
          "output_type": "stream",
          "name": "stdout",
          "text": [
            "Placement rate by training and extracurricular activities:\n",
            "ExtracurricularActivities    0    1\n",
            "PlacementTraining                  \n",
            "0                          1.0  1.0\n",
            "1                          1.0  1.0\n"
          ]
        }
      ]
    },
    {
      "cell_type": "markdown",
      "source": [
        "📌 Step 4: Data Visualization"
      ],
      "metadata": {
        "id": "cddpcrCmN3Tf"
      }
    },
    {
      "cell_type": "code",
      "source": [
        "#A. Basic Matplotlib Plots\n",
        "# Histogram of CGPA\n",
        "plt.figure(figsize=(8, 4))\n",
        "plt.hist(df['CGPA'], bins=10, color='orange')\n",
        "plt.title('CGPA Distribution')\n",
        "plt.xlabel('CGPA')\n",
        "plt.ylabel('Count')\n",
        "plt.show()\n",
        "\n",
        "# Histogram of Aptitude Score\n",
        "plt.figure(figsize=(8, 4))\n",
        "plt.hist(df['AptitudeTestScore'], bins=10, color='skyblue')\n",
        "plt.title('Aptitude Test Score Distribution')\n",
        "plt.xlabel('Score')\n",
        "plt.ylabel('Count')\n",
        "plt.show()\n",
        "\n",
        "# Bar plot of Placement Status\n",
        "df['PlacementStatus'].value_counts().plot(kind='bar', color=['green', 'red'])\n",
        "plt.title(\"Placement Status Count\")\n",
        "plt.xlabel(\"Status (1=Placed, 0=Not Placed)\")\n",
        "plt.ylabel(\"Count\")\n",
        "plt.show()\n"
      ],
      "metadata": {
        "colab": {
          "base_uri": "https://localhost:8080/",
          "height": 1000
        },
        "id": "gjMqaM26N4ec",
        "outputId": "dc52e852-c61c-493d-e74d-99d0f2d761ea"
      },
      "execution_count": null,
      "outputs": [
        {
          "output_type": "display_data",
          "data": {
            "text/plain": [
              "<Figure size 800x400 with 1 Axes>"
            ],
            "image/png": "[encoded data removed]"
          },
          "metadata": {}
        },
        {
          "output_type": "display_data",
          "data": {
            "text/plain": [
              "<Figure size 800x400 with 1 Axes>"
            ],
            "image/png": "[encoded data removed]"
          },
          "metadata": {}
        },
        {
          "output_type": "display_data",
          "data": {
            "text/plain": [
              "<Figure size 640x480 with 1 Axes>"
            ],
            "image/png": "[encoded data removed]"
          },
          "metadata": {}
        }
      ]
    },
    {
      "cell_type": "markdown",
      "source": [
        "📌 Step 5: Advanced NumPy Operations"
      ],
      "metadata": {
        "id": "99P2R14wPMQc"
      }
    },
    {
      "cell_type": "code",
      "source": [
        "# Normalize CGPA using z-score\n",
        "cgpa_mean = np.mean(df['CGPA'])\n",
        "cgpa_std = np.std(df['CGPA'])\n",
        "df['CGPA_zscore'] = (df['CGPA'] - cgpa_mean) / cgpa_std\n",
        "\n",
        "# Boolean indexing: filter students with CGPA between 7.0 and 9.0\n",
        "cgpa_values = df['CGPA'].values\n",
        "mid_cgpa_students = df[np.logical_and(cgpa_values >= 7.0, cgpa_values <= 9.0)]\n",
        "print(\"\\nNumber of students with CGPA between 7.0 and 9.0:\", len(mid_cgpa_students))\n"
      ],
      "metadata": {
        "colab": {
          "base_uri": "https://localhost:8080/"
        },
        "id": "oTqsYGmBPJyi",
        "outputId": "8d5ced01-09f3-4164-dfa6-8c5c834f203d"
      },
      "execution_count": null,
      "outputs": [
        {
          "output_type": "stream",
          "name": "stdout",
          "text": [
            "\n",
            "Number of students with CGPA between 7.0 and 9.0: 8244\n"
          ]
        }
      ]
    }
  ],
  "metadata": {
    "colab": {
      "provenance": []
    },
    "kernelspec": {
      "display_name": "Python 3",
      "name": "python3"
    },
    "language_info": {
      "name": "python"
    }
  },
  "nbformat": 4,
  "nbformat_minor": 0
}